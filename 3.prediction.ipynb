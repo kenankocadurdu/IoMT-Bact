{
 "cells": [
  {
   "cell_type": "markdown",
   "id": "2e59b166-97d7-4944-b547-0b2f308abe00",
   "metadata": {},
   "source": [
    "## imports"
   ]
  },
  {
   "cell_type": "code",
   "execution_count": null,
   "id": "63622828-f29c-4416-aab3-05fd30f18d45",
   "metadata": {},
   "outputs": [],
   "source": [
    "import fastbook\n",
    "fastbook.setup_book()\n",
    "from fastbook import *\n",
    "from fastai.vision.all import *\n",
    "import torchvision.models as models\n",
    "import pandas as pd\n",
    "import numpy as np\n",
    "from iterstrat.ml_stratifiers import MultilabelStratifiedKFold\n",
    "from jetcam.csi_camera import CSICamera\n",
    "import ipywidgets\n",
    "import traitlets\n",
    "from IPython.display import display\n",
    "from jetcam.utils import bgr8_to_jpeg\n",
    "\n",
    "import warnings\n",
    "warnings.filterwarnings(\"ignore\")"
   ]
  },
  {
   "cell_type": "markdown",
   "id": "a74a8ec5-82f4-4f21-8890-86b2b492453c",
   "metadata": {},
   "source": [
    "## camera"
   ]
  },
  {
   "cell_type": "code",
   "execution_count": null,
   "id": "87d391a4-df79-47af-8256-116c36fb4f87",
   "metadata": {},
   "outputs": [],
   "source": [
    "camera = CSICamera(width=224, height=224, capture_device=0)\n",
    "camera.running = True\n",
    "print(\"camera created\")"
   ]
  },
  {
   "cell_type": "markdown",
   "id": "346eb513-befe-4a8f-992c-ccb5870e5b19",
   "metadata": {},
   "source": [
    "## camera_widget"
   ]
  },
  {
   "cell_type": "code",
   "execution_count": null,
   "id": "b084cb07-dd40-47f0-ab38-a389bced46ef",
   "metadata": {},
   "outputs": [],
   "source": [
    "camera.unobserve_all()\n",
    "camera_widget = ipywidgets.Image()\n",
    "traitlets.dlink((camera, 'value'), (camera_widget, 'value'), transform=bgr8_to_jpeg)\n",
    "camera_view_widget = ipywidgets.VBox([\n",
    "    ipywidgets.HBox([camera_widget])\n",
    "])\n",
    "print(\"camera_view_widget created\")"
   ]
  },
  {
   "cell_type": "markdown",
   "id": "287d4514-cf9a-49ed-9791-0bf39440668a",
   "metadata": {},
   "source": [
    "## model dataset"
   ]
  },
  {
   "cell_type": "code",
   "execution_count": null,
   "id": "dca3768d-7a64-481a-bdb9-0574c757f3e1",
   "metadata": {},
   "outputs": [],
   "source": [
    "LABEL_COLS = ['background', 'maya', 'neg_basil', 'neg_coco', 'pos_chain', 'pos_cluster']\n",
    "filepath_list = glob.glob('gram_stain/*/*.jpg')\n",
    "labels = [str(filepath_list[i]).split(\"/\")[-2] for i in range(len(filepath_list))]\n",
    "filepath = pd.Series(filepath_list, name='filepath').astype(str)\n",
    "label = pd.Series(labels, name='label')\n",
    "train_df = pd.concat([label, filepath], axis=1)\n",
    "train_df = train_df.sample(frac=1, random_state=0).reset_index(drop=True)\n",
    "N_FOLDS = 5\n",
    "train_df['fold'] = -1\n",
    "strat_kfold = MultilabelStratifiedKFold(n_splits=N_FOLDS, random_state=43, shuffle=True)\n",
    "for i, (_, test_index) in enumerate(strat_kfold.split(train_df.filepath.values, train_df.iloc[:,1:].values)):\n",
    "    train_df.iloc[test_index, -1] = i\n",
    "train_df['fold'] = train_df['fold'].astype('int')\n",
    "train_df = train_df.reset_index(drop=True)\n",
    "augs_train = []\n",
    "def get_data(fold):\n",
    "    train_df_fold = ((train_df.loc[train_df.fold==fold]).reset_index(drop=True)).index\n",
    "    dblock = DataBlock(blocks=(ImageBlock(cls=PILImage), CategoryBlock(vocab=LABEL_COLS)),\n",
    "                       splitter=IndexSplitter(train_df_fold),\n",
    "                       get_x=ColReader('filepath'),\n",
    "                       get_y=ColReader('label'),\n",
    "                       item_tfms=Resize(300, method=\"squish\"),\n",
    "                       batch_tfms=augs_train,\n",
    "                       )\n",
    "    dls = dblock.dataloaders(train_df, bs=2)\n",
    "    return dls"
   ]
  },
  {
   "cell_type": "markdown",
   "id": "9151d6ed-94c5-4a49-b41d-b44f8439ff98",
   "metadata": {},
   "source": [
    "## live_execution_widget"
   ]
  },
  {
   "cell_type": "code",
   "execution_count": null,
   "id": "65dfdfaf-b281-4f49-94be-fc26540eb828",
   "metadata": {},
   "outputs": [],
   "source": [
    "import threading\n",
    "import time\n",
    "import torch.nn.functional as F\n",
    "import torch\n",
    "\n",
    "state_widget = ipywidgets.ToggleButtons(options=['stop', 'live'], description='state', value='stop')\n",
    "prediction_widget = ipywidgets.Text(description='prediction')\n",
    "\n",
    "def live(state_widget, datal, model, camera, prediction_widget):\n",
    "    while state_widget.value == 'live':\n",
    "        image = camera.value\n",
    "        \n",
    "        with torch.no_grad():\n",
    "            image_, = first(datal.test_dl([image]))\n",
    "            image_ = TensorImage(datal.train.decode((image_,))[0][0])\n",
    "            tani_, tani_id, prob_list_ = model.predict(image_)\n",
    "            prediction_widget.value = tani_\n",
    "            \n",
    "def start_live(change):\n",
    "    dls = get_data(0)\n",
    "    learner_cnn = cnn_learner(dls, models.mobilenet_v2, cut=-1, normalize=True, loss_func=CrossEntropyLossFlat(), opt_func=Adam, metrics=[accuracy] ).load('xresnet18_fold_0')\n",
    "    #learner_cnn = cnn_learner(dls, xresnet50, normalize=True, loss_func=CrossEntropyLossFlat(), opt_func=Adam, metrics=[accuracy] ).load('xresnet50')\n",
    "    \n",
    "    \n",
    "    if change['new'] == 'live':\n",
    "        execute_thread = threading.Thread(target=live, args=(state_widget, dls, learner_cnn, camera, prediction_widget))\n",
    "        execute_thread.start()\n",
    "\n",
    "state_widget.observe(start_live, names='value')\n",
    "\n",
    "live_execution_widget = ipywidgets.VBox([\n",
    "    prediction_widget,\n",
    "    state_widget\n",
    "])\n",
    "print(\"live_execution_widget created\")"
   ]
  },
  {
   "cell_type": "markdown",
   "id": "1e18af9c-f903-4120-9d5e-70413fe4bf84",
   "metadata": {},
   "source": [
    "## prediction"
   ]
  },
  {
   "cell_type": "code",
   "execution_count": null,
   "id": "7adb0574-ef66-4485-be49-cbe1b21af222",
   "metadata": {},
   "outputs": [],
   "source": [
    "all_widget = ipywidgets.VBox([\n",
    "    ipywidgets.HBox([camera_view_widget, live_execution_widget]), \n",
    "])\n",
    "\n",
    "display(all_widget)"
   ]
  },
  {
   "cell_type": "code",
   "execution_count": null,
   "id": "c7c32462-0eb5-4525-8847-1289fa732479",
   "metadata": {},
   "outputs": [],
   "source": []
  },
  {
   "cell_type": "code",
   "execution_count": null,
   "id": "bf1485bb-fba7-49af-8116-3ae285dc57e7",
   "metadata": {},
   "outputs": [],
   "source": []
  },
  {
   "cell_type": "code",
   "execution_count": null,
   "id": "17063b40-1af4-4d29-afbf-7a38fc7abe8d",
   "metadata": {},
   "outputs": [],
   "source": [
    "import os\n",
    "import IPython\n",
    "if type(camera) is CSICamera:\n",
    "    print(\"Ignore 'Exception in thread' tracebacks\\n\")\n",
    "    camera.cap.release()\n",
    "os._exit(0)"
   ]
  },
  {
   "cell_type": "code",
   "execution_count": null,
   "id": "9d847a3d-7073-4325-a085-683ae093067b",
   "metadata": {},
   "outputs": [],
   "source": []
  }
 ],
 "metadata": {
  "kernelspec": {
   "display_name": "Python 3",
   "language": "python",
   "name": "python3"
  },
  "language_info": {
   "codemirror_mode": {
    "name": "ipython",
    "version": 3
   },
   "file_extension": ".py",
   "mimetype": "text/x-python",
   "name": "python",
   "nbconvert_exporter": "python",
   "pygments_lexer": "ipython3",
   "version": "3.6.9"
  }
 },
 "nbformat": 4,
 "nbformat_minor": 5
}
