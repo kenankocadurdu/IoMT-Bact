{
 "cells": [
  {
   "cell_type": "markdown",
   "metadata": {
    "id": "ldPqdeg5JQ0c"
   },
   "source": [
    "## IMPORTS"
   ]
  },
  {
   "cell_type": "code",
   "execution_count": 1,
   "metadata": {
    "tags": []
   },
   "outputs": [],
   "source": [
    "################## for the first time ################"
   ]
  },
  {
   "cell_type": "code",
   "execution_count": null,
   "metadata": {},
   "outputs": [],
   "source": [
    "!python3 -m pip install --upgrade pip"
   ]
  },
  {
   "cell_type": "code",
   "execution_count": null,
   "metadata": {},
   "outputs": [],
   "source": [
    "!pip install -r requirements.txt"
   ]
  },
  {
   "cell_type": "code",
   "execution_count": 2,
   "metadata": {
    "tags": []
   },
   "outputs": [],
   "source": [
    "######################################################"
   ]
  },
  {
   "cell_type": "code",
   "execution_count": null,
   "metadata": {
    "colab": {
     "base_uri": "https://localhost:8080/"
    },
    "executionInfo": {
     "elapsed": 34130,
     "status": "ok",
     "timestamp": 1635876494508,
     "user": {
      "displayName": "Kenan KOCADURDU",
      "photoUrl": "https://lh3.googleusercontent.com/a/default-user=s64",
      "userId": "11623489172164073063"
     },
     "user_tz": -180
    },
    "id": "pTpC6MYHx-Qv",
    "outputId": "20f4c0cb-de69-40e7-b412-799959e5354b"
   },
   "outputs": [],
   "source": [
    "import fastbook\n",
    "fastbook.setup_book()\n",
    "from fastbook import *\n",
    "from fastai.vision.all import *\n",
    "import torchvision.models as models\n",
    "import pandas as pd\n",
    "import numpy as np\n",
    "from iterstrat.ml_stratifiers import MultilabelStratifiedKFold\n",
    "\n",
    "import warnings\n",
    "warnings.filterwarnings(\"ignore\")"
   ]
  },
  {
   "cell_type": "markdown",
   "metadata": {
    "id": "EtdsBjZaJbeg",
    "tags": []
   },
   "source": [
    "## PATHS"
   ]
  },
  {
   "cell_type": "code",
   "execution_count": null,
   "metadata": {
    "colab": {
     "base_uri": "https://localhost:8080/"
    },
    "executionInfo": {
     "elapsed": 17186,
     "status": "ok",
     "timestamp": 1635876512386,
     "user": {
      "displayName": "Kenan KOCADURDU",
      "photoUrl": "https://lh3.googleusercontent.com/a/default-user=s64",
      "userId": "11623489172164073063"
     },
     "user_tz": -180
    },
    "id": "fN03CjAEyPIC",
    "outputId": "7a53161d-e6ac-43a8-9246-b89e0e68d972"
   },
   "outputs": [],
   "source": [
    "path_train = Path('gram_stain/')\n",
    "train_fnames = get_image_files(path_train)\n",
    "\n",
    "background_fnames_train = get_image_files(path_train/'background')\n",
    "maya_fnames_train = get_image_files(path_train/'maya')\n",
    "neg_basil_fnames_train = get_image_files(path_train/'neg_basil')\n",
    "neg_coco_fnames_train = get_image_files(path_train/'neg_coco')\n",
    "pos_chain_fnames_train = get_image_files(path_train/'pos_chain')\n",
    "pos_cluster_fnames_train = get_image_files(path_train/'pos_cluster')\n",
    "\n",
    "print('-'*50)\n",
    "print('TRAIN')\n",
    "print('-'*50)\n",
    "print('Number of Background \\t\\t: '+ str(len(background_fnames_train)))\n",
    "print('Number of Maya \\t\\t\\t: '+ str(len(maya_fnames_train)))\n",
    "print('Number of Negative Basil\\t: '+ str(len(neg_basil_fnames_train)))\n",
    "print('Number of Negative Coco\\t\\t: '+ str(len(neg_coco_fnames_train)))\n",
    "print('Number of Positive Chain\\t: '+ str(len(pos_chain_fnames_train)))\n",
    "print('Number of Positive Cluster\\t: '+ str(len(pos_cluster_fnames_train)))\n",
    "print('-'*50)\n",
    "print('\\t\\t\\tTOTAL \\t: '+ str(len(train_fnames)))\n",
    "print('-'*50)"
   ]
  },
  {
   "cell_type": "code",
   "execution_count": null,
   "metadata": {
    "tags": []
   },
   "outputs": [],
   "source": [
    "LABEL_COLS = ['background', 'maya', 'neg_basil', 'neg_coco', 'pos_chain', 'pos_cluster']"
   ]
  },
  {
   "cell_type": "code",
   "execution_count": null,
   "metadata": {
    "tags": []
   },
   "outputs": [],
   "source": [
    "filepath_list = glob.glob('gram_stain/*/*.jpg')\n",
    "labels = [str(filepath_list[i]).split(\"/\")[-2] for i in range(len(filepath_list))]\n",
    "filepath = pd.Series(filepath_list, name='filepath').astype(str)\n",
    "label = pd.Series(labels, name='label')\n",
    "train_df = pd.concat([label, filepath], axis=1)\n",
    "train_df = train_df.sample(frac=1, random_state=0).reset_index(drop=True)\n",
    "\n",
    "N_FOLDS = 5\n",
    "train_df['fold'] = -1\n",
    "strat_kfold = MultilabelStratifiedKFold(n_splits=N_FOLDS, random_state=43, shuffle=True)\n",
    "for i, (_, test_index) in enumerate(strat_kfold.split(train_df.filepath.values, train_df.iloc[:,1:].values)):\n",
    "    train_df.iloc[test_index, -1] = i\n",
    "train_df['fold'] = train_df['fold'].astype('int')\n",
    "train_df = train_df.reset_index(drop=True)\n",
    "train_df.head()"
   ]
  },
  {
   "cell_type": "markdown",
   "metadata": {
    "id": "Qv7lE1LXJfmp"
   },
   "source": [
    "## AUGS AND DATALOADERS"
   ]
  },
  {
   "cell_type": "code",
   "execution_count": null,
   "metadata": {},
   "outputs": [],
   "source": [
    "augs_train = []\n",
    "\n",
    "def get_data(fold):\n",
    "    train_df_fold = ((train_df.loc[train_df.fold==fold]).reset_index(drop=True)).index\n",
    "    dblock = DataBlock(blocks=(ImageBlock(cls=PILImage), CategoryBlock(vocab=LABEL_COLS)),\n",
    "                       splitter=IndexSplitter(train_df_fold),\n",
    "                       get_x=ColReader('filepath'),\n",
    "                       get_y=ColReader('label'),\n",
    "                       item_tfms=Resize(224, method=\"squish\"),\n",
    "                       batch_tfms=augs_train,\n",
    "                       )\n",
    "    dls = dblock.dataloaders(train_df, bs=2)\n",
    "    return dls"
   ]
  },
  {
   "cell_type": "markdown",
   "metadata": {},
   "source": [
    "### TRAINING"
   ]
  },
  {
   "cell_type": "code",
   "execution_count": null,
   "metadata": {
    "tags": []
   },
   "outputs": [],
   "source": [
    "learn_rate = 1e-04\n",
    "reduce_patience= 3\n",
    "stop_patience = 5\n",
    "epoch = 10"
   ]
  },
  {
   "cell_type": "code",
   "execution_count": null,
   "metadata": {},
   "outputs": [],
   "source": [
    "for f_i in np.arange(0, 1, 1):\n",
    "    dls = get_data(f_i)\n",
    "    learner_cnn = cnn_learner(dls, models.mobilenet_v2, cut=-1, pretrained=False, normalize=True, loss_func=CrossEntropyLossFlat(), opt_func=Adam, metrics=[accuracy] )\n",
    "    learner_cnn.fit_one_cycle(epoch, lr_max=learn_rate,\n",
    "                                cbs=[\n",
    "                                    SaveModelCallback(monitor='valid_loss', min_delta=0.0001, fname=\"mobilenet_fold_\" +str(f_i)),\n",
    "                                    ReduceLROnPlateau(monitor='valid_loss', min_delta=0.01, patience=reduce_patience),\n",
    "                                    EarlyStoppingCallback(monitor='valid_loss', min_delta=0.0001, patience=stop_patience)\n",
    "                                    ]\n",
    "                             )"
   ]
  },
  {
   "cell_type": "code",
   "execution_count": null,
   "metadata": {},
   "outputs": [],
   "source": [
    "print(\"Training fnished\")"
   ]
  },
  {
   "cell_type": "code",
   "execution_count": null,
   "metadata": {},
   "outputs": [],
   "source": []
  }
 ],
 "metadata": {
  "accelerator": "GPU",
  "colab": {
   "collapsed_sections": [],
   "name": "0_Chest_XRay_xresnet50.ipynb",
   "provenance": []
  },
  "kernelspec": {
   "display_name": "Python 3 (ipykernel)",
   "language": "python",
   "name": "python3"
  },
  "language_info": {
   "codemirror_mode": {
    "name": "ipython",
    "version": 3
   },
   "file_extension": ".py",
   "mimetype": "text/x-python",
   "name": "python",
   "nbconvert_exporter": "python",
   "pygments_lexer": "ipython3",
   "version": "3.8.10"
  }
 },
 "nbformat": 4,
 "nbformat_minor": 4
}
